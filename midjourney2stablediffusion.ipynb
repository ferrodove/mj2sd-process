{
  "nbformat": 4,
  "nbformat_minor": 0,
  "metadata": {
    "colab": {
      "provenance": [],
      "collapsed_sections": []
    },
    "kernelspec": {
      "name": "python3",
      "display_name": "Python 3"
    },
    "language_info": {
      "name": "python"
    }
  },
  "cells": [
    {
      "cell_type": "markdown",
      "source": [
        "# Midjourney image to Stable Diffusion prompt\n",
        "\n",
        "### Interrogating Midjourney generations to find great Stable Diffusion prompts"
      ],
      "metadata": {
        "id": "8JfFD1kQ1PDM"
      }
    },
    {
      "cell_type": "code",
      "source": [
        "# install\n"
      ],
      "metadata": {
        "id": "fw2atg6C1dm5"
      },
      "execution_count": null,
      "outputs": []
    },
    {
      "cell_type": "code",
      "execution_count": null,
      "metadata": {
        "id": "GDzYISbo1Kr0"
      },
      "outputs": [],
      "source": [
        "# import\n"
      ]
    },
    {
      "cell_type": "code",
      "source": [
        "# load the set of midjourney images\n",
        "\n",
        "# load the midjourney \"prompts\"\n"
      ],
      "metadata": {
        "id": "wyb0UXTA1jSa"
      },
      "execution_count": null,
      "outputs": []
    },
    {
      "cell_type": "code",
      "source": [
        "# pick a midjourney image at random\n",
        "\n",
        "\n",
        "# interrogate the midjourney image using CLIP - find the most similar text prompts\n",
        "\n"
      ],
      "metadata": {
        "id": "vl-_tdCH1pmn"
      },
      "execution_count": null,
      "outputs": []
    },
    {
      "cell_type": "code",
      "source": [
        "# for each text prompt, or each part of each text prompt, generation combinations/permuatations\n",
        "\n",
        "# expand the list of combs/perms by also combining with the original midjourney prompts\n"
      ],
      "metadata": {
        "id": "1isuedhv1785"
      },
      "execution_count": null,
      "outputs": []
    },
    {
      "cell_type": "code",
      "source": [
        "# set up the set(s) of Stable Diffusion settings \n",
        "\n",
        "# match width, height to the aspect ratio of the midjourney image\n",
        "\n",
        "# cfg scale\n",
        "\n",
        "# steps - probably set to 50 or 100 every time\n",
        "\n",
        "# different samplers\n",
        "\n",
        "# latest(?) stable diffusion model\n",
        "\n",
        "# CLIP guidance on or off(?)\n"
      ],
      "metadata": {
        "id": "9oQjitA92UPc"
      },
      "execution_count": 1,
      "outputs": []
    },
    {
      "cell_type": "code",
      "source": [
        "# for each text prompt, generate X # of images (different seeds) with each Y # of settings\n",
        "# e.g., if we have 5 text prompts, then for each text prompt, generate 10 images with different seeds, and for each seed, generate 1 image per setting\n"
      ],
      "metadata": {
        "id": "MYZ1p6Y32R1G"
      },
      "execution_count": null,
      "outputs": []
    },
    {
      "cell_type": "code",
      "source": [
        "# calculate cosine similarity of newly generated Stable Diffusion images with the original Midjourney image\n",
        "\n",
        "# report the best; create visualization for scores and return top-K images (top 5?)\n"
      ],
      "metadata": {
        "id": "1RdjnH-54HYL"
      },
      "execution_count": null,
      "outputs": []
    },
    {
      "cell_type": "code",
      "source": [
        "# after repeating the process for each prompt variation with each seed with each settings for the original image, proceed with the next image\n"
      ],
      "metadata": {
        "id": "k-4gxAUb4Tfj"
      },
      "execution_count": null,
      "outputs": []
    },
    {
      "cell_type": "code",
      "source": [
        "# find the overall best results\n"
      ],
      "metadata": {
        "id": "M7JbtOCC4Z35"
      },
      "execution_count": null,
      "outputs": []
    },
    {
      "cell_type": "code",
      "source": [
        "# compare similarity of the original images and original prompts, see if pattern in good results\n"
      ],
      "metadata": {
        "id": "czLu2KeB4b8T"
      },
      "execution_count": null,
      "outputs": []
    },
    {
      "cell_type": "code",
      "source": [
        "# if this works properly we might have recreated Midjourney prompts/settings\n",
        "\n",
        "# but keep in mind that Midjourney could be doing a Disco Diffusion style image generation process with weighted prompts and a bunch of other parameters\n"
      ],
      "metadata": {
        "id": "4A9zMIFO4gqF"
      },
      "execution_count": null,
      "outputs": []
    }
  ]
}